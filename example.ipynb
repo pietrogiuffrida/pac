{
 "cells": [
  {
   "cell_type": "code",
   "execution_count": null,
   "id": "ec5ef19e",
   "metadata": {},
   "outputs": [],
   "source": [
    "import pac\n",
    "from importlib import reload\n",
    "reload(pac)"
   ]
  },
  {
   "cell_type": "code",
   "execution_count": null,
   "id": "64aa3a8b",
   "metadata": {},
   "outputs": [],
   "source": [
    "test = pac.Pac()"
   ]
  },
  {
   "cell_type": "code",
   "execution_count": null,
   "id": "b95af79a",
   "metadata": {},
   "outputs": [],
   "source": [
    "test.log_running()"
   ]
  },
  {
   "cell_type": "code",
   "execution_count": null,
   "id": "0059e4cd",
   "metadata": {},
   "outputs": [],
   "source": [
    "test.inspect(\"Delivery ESG\")"
   ]
  },
  {
   "cell_type": "code",
   "execution_count": null,
   "id": "4c2b02d4",
   "metadata": {},
   "outputs": [],
   "source": [
    "test.target.SecurityGroups"
   ]
  },
  {
   "cell_type": "code",
   "execution_count": null,
   "id": "a40bd66f",
   "metadata": {},
   "outputs": [],
   "source": [
    "test.set_rule(\n",
    "    group_name=\"launch-wizard-23\",\n",
    "    port=9090,\n",
    "    description=\"VPN\",\n",
    "    address=test.pubblic_ip\n",
    ")"
   ]
  },
  {
   "cell_type": "code",
   "execution_count": null,
   "id": "e2453b3e",
   "metadata": {},
   "outputs": [],
   "source": [
    "test.unset_rule(\n",
    "    group_name=\"launch-wizard-23\",\n",
    "    port=9090,\n",
    "    address=test.pubblic_ip\n",
    ")"
   ]
  },
  {
   "cell_type": "code",
   "execution_count": null,
   "id": "d980eeac",
   "metadata": {},
   "outputs": [],
   "source": [
    "test.inspect(\"Delivery ESG\")"
   ]
  }
 ],
 "metadata": {
  "language_info": {
   "name": "python",
   "pygments_lexer": "ipython3"
  }
 },
 "nbformat": 4,
 "nbformat_minor": 5
}
